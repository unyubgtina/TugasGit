{
 "cells": [
  {
   "cell_type": "code",
   "execution_count": 3,
   "metadata": {},
   "outputs": [],
   "source": [
    "data_panen = {\n",
    "    'lokasi1': {\n",
    "        'nama_lokasi': 'Kebun A',\n",
    "        'hasil_panen': {\n",
    "            'padi': 1200,\n",
    "            'jagung': 800,\n",
    "            'kedelai': 500\n",
    "        }\n",
    "    },\n",
    "    'lokasi2': {\n",
    "        'nama_lokasi': 'Kebun B',\n",
    "        'hasil_panen': {\n",
    "            'padi': 1500,\n",
    "            'jagung': 900,\n",
    "            'kedelai': 450\n",
    "        }\n",
    "    },\n",
    "    'lokasi3': {\n",
    "        'nama_lokasi': 'Kebun C',\n",
    "        'hasil_panen': {\n",
    "            'padi': 1100,\n",
    "            'jagung': 750,\n",
    "            'kedelai': 600\n",
    "        }\n",
    "    },\n",
    "    'lokasi4': {\n",
    "        'nama_lokasi': 'Kebun D',\n",
    "        'hasil_panen': {\n",
    "            'padi': 1300,\n",
    "            'jagung': 850,\n",
    "            'kedelai': 550\n",
    "        }\n",
    "    },\n",
    "    'lokasi5': {\n",
    "        'nama_lokasi': 'Kebun E',\n",
    "        'hasil_panen': {\n",
    "            'padi': 1400,\n",
    "            'jagung': 950,\n",
    "            'kedelai': 480\n",
    "        }\n",
    "    }\n",
    "}"
   ]
  },
  {
   "cell_type": "code",
   "execution_count": 6,
   "metadata": {},
   "outputs": [
    {
     "name": "stdout",
     "output_type": "stream",
     "text": [
      "[{'lokasi1': {'nama_lokasi': 'Kebun A', 'hasil_panen': {'padi': 1200, 'jagung': 800, 'kedelai': 500}}, 'lokasi2': {'nama_lokasi': 'Kebun B', 'hasil_panen': {'padi': 1500, 'jagung': 900, 'kedelai': 450}}, 'lokasi3': {'nama_lokasi': 'Kebun C', 'hasil_panen': {'padi': 1100, 'jagung': 750, 'kedelai': 600}}, 'lokasi4': {'nama_lokasi': 'Kebun D', 'hasil_panen': {'padi': 1300, 'jagung': 850, 'kedelai': 550}}, 'lokasi5': {'nama_lokasi': 'Kebun E', 'hasil_panen': {'padi': 1400, 'jagung': 950, 'kedelai': 480}}}]\n"
     ]
    }
   ],
   "source": [
    "print([data_panen])"
   ]
  },
  {
   "cell_type": "code",
   "execution_count": 10,
   "metadata": {},
   "outputs": [
    {
     "name": "stdout",
     "output_type": "stream",
     "text": [
      "{'padi': 1500, 'jagung': 900, 'kedelai': 450}\n"
     ]
    }
   ],
   "source": [
    "print(data_panen['lokasi2']['hasil_panen'])"
   ]
  },
  {
   "cell_type": "code",
   "execution_count": 11,
   "metadata": {},
   "outputs": [
    {
     "name": "stdout",
     "output_type": "stream",
     "text": [
      "Kebun C\n"
     ]
    }
   ],
   "source": [
    "print(data_panen['lokasi3']['nama_lokasi'])"
   ]
  },
  {
   "cell_type": "code",
   "execution_count": null,
   "metadata": {},
   "outputs": [],
   "source": [
    "padi_lokasi1 = data_panen['lokasi1']['hasil_panen']['padi']\n",
    "kedelai_lokasi1 = data_panen['lokasi1']['hasil_panen']['kedelai']\n",
    "\n",
    "padi_lokasi2 = data_panen['lokasi2']['hasil_panen']['padi']\n",
    "kedelai_lokasi2 = data_panen['lokasi2']['hasil_panen']['kedelai']\n",
    "\n",
    "padi_lokasi3 = data_panen['lokasi3']['hasil_panen']['padi']\n",
    "kedelai_lokasi3 = data_panen['lokasi3']['hasil_panen']['kedelai']\n",
    "\n",
    "padi_lokasi4 = data_panen['lokasi4']['hasil_panen']['padi']\n",
    "kedelai_lokasi4 = data_panen['lokasi4']['hasil_panen']['kedelai']\n",
    "\n",
    "padi_lokasi5 = data_panen['lokasi5']['hasil_panen']['padi']\n",
    "kedelai_lokasi5 = data_panen['lokasi5']['hasil_panen']['kedelai']"
   ]
  }
 ],
 "metadata": {
  "kernelspec": {
   "display_name": "Python 3",
   "language": "python",
   "name": "python3"
  },
  "language_info": {
   "codemirror_mode": {
    "name": "ipython",
    "version": 3
   },
   "file_extension": ".py",
   "mimetype": "text/x-python",
   "name": "python",
   "nbconvert_exporter": "python",
   "pygments_lexer": "ipython3",
   "version": "3.12.6"
  }
 },
 "nbformat": 4,
 "nbformat_minor": 2
}
